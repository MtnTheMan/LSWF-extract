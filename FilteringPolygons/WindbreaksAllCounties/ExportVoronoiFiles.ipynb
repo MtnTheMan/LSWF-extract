import arcpy
import time
import numpy as np
import math
import os

# Set input directories and output variables
shapefile_dir_v2 = r"X:/ToF Outputs/Shapefiles_v1_centerlineWorking_v2"
centerline_dir_v3 = r"X:/ToF Outputs/Shapefiles_v1_centerlineWorking_v3"
output_gdb = r"X:/WindbreaksAllCounties/WindbreaksAllCounties.gdb"
output_dir = r"X:/ToF Outputs/VoronoiOutputs"

# Create output directory if it doesn't exist
if not os.path.exists(output_dir):
    os.makedirs(output_dir)

# List of county short names
county_names = [
    "BaWI", "BeMI", "ChMI", "ClWI", "CoOH", "CrOH", "DeOH", "DoWI", "GrWI", "HaOH", "HoMI", "WaOH",
    "HoOH", "HuMI", "IoWI", "IsMI", "JaMI", "KeMI", "KnOH", "LeMI", "LiOH", "MaWI", "MeMI", "AuOH",
    "MoMI", "OcMI", "OnWI", "OzWI", "RiWI", "SaWI", "ShWI", "VeWI", "W2OH", "AlMI", "AtOH"
]

# Start the overall timer
overall_start = time.time()

def print_time(start, step_name):
    end = time.time()
    elapsed = end - start
    hours = int(elapsed // 3600)
    minutes = int((elapsed % 3600) // 60)
    seconds = elapsed % 60
    print(f"{step_name} completed in {hours}h {minutes}m {seconds:.2f}s.")

# Loop through each county
for county in county_names:
    try:
        # Set county-specific prefix
        prefix = f"{county}_"

        # Paths to the final output features
        final_split_lines_fc = f"{output_gdb}/{prefix}FinalSplitLines"
        final_intersect_fc = f"{output_gdb}/{prefix}FinalIntersect"
        split_points_fc = f"{output_gdb}/{prefix}SplitPoints90Deg"

        # Define output paths for exported features
        output_split_lines = os.path.join(output_dir, f"{prefix}FinalSplitLines.shp")
        output_intersect = os.path.join(output_dir, f"{prefix}FinalIntersect.shp")
        output_split_points = os.path.join(output_dir, f"{prefix}SplitPoints90Deg.shp")

        # Export FinalSplitLines
        start = time.time()
        arcpy.management.CopyFeatures(final_split_lines_fc, output_split_lines)
        print_time(start, f"{county}: Export FinalSplitLines")

        # Export FinalIntersect
        start = time.time()
        arcpy.management.CopyFeatures(final_intersect_fc, output_intersect)
        print_time(start, f"{county}: Export FinalIntersect")

        # Export SplitPoints90Deg
        start = time.time()
        arcpy.management.CopyFeatures(split_points_fc, output_split_points)
        print_time(start, f"{county}: Export SplitPoints90Deg")

    except arcpy.ExecuteError:
        print(f"Error processing {county}: {arcpy.GetMessages(2)}")
    except Exception as e:
        print(f"General error while processing {county}: {str(e)}")
    finally:
        print(f"Finished processing {county}.")

# Print overall time taken
overall_end = time.time()
elapsed = overall_end - overall_start
hours = int(elapsed // 3600)
minutes = int((elapsed % 3600) // 60)
seconds = elapsed % 60
print(f"Overall process completed in {hours}h {minutes}m {seconds:.2f}s.")
