import arcpy
import os

# List of shapefiles with full paths
shapefile_paths = [
    r"X:\ToF Outputs\Shapefiles_v1_centerlineWorking\BaWI.shp",
    r"X:\ToF Outputs\Shapefiles_v1_centerlineWorking\BeMI.shp",
    r"X:\ToF Outputs\Shapefiles_v1_centerlineWorking\ChMI.shp",
    r"X:\ToF Outputs\Shapefiles_v1_centerlineWorking\ClWI.shp",
    r"X:\ToF Outputs\Shapefiles_v1_centerlineWorking\CoOH.shp",
    r"X:\ToF Outputs\Shapefiles_v1_centerlineWorking\CrOH.shp",
    r"X:\ToF Outputs\Shapefiles_v1_centerlineWorking\DeOH.shp",
    r"X:\ToF Outputs\Shapefiles_v1_centerlineWorking\DoWI.shp",
    r"X:\ToF Outputs\Shapefiles_v1_centerlineWorking\GrWI.shp",
    r"X:\ToF Outputs\Shapefiles_v1_centerlineWorking\HaOH.shp",
    r"X:\ToF Outputs\Shapefiles_v1_centerlineWorking\HoMI.shp",
    r"X:\ToF Outputs\Shapefiles_v1_centerlineWorking\HoOH.shp",
    r"X:\ToF Outputs\Shapefiles_v1_centerlineWorking\HuMI.shp",
    r"X:\ToF Outputs\Shapefiles_v1_centerlineWorking\IoWI.shp",
    r"X:\ToF Outputs\Shapefiles_v1_centerlineWorking\IsMI.shp",
    r"X:\ToF Outputs\Shapefiles_v1_centerlineWorking\JaMI.shp",
    r"X:\ToF Outputs\Shapefiles_v1_centerlineWorking\KeMI.shp",
    r"X:\ToF Outputs\Shapefiles_v1_centerlineWorking\KnOH.shp",
    r"X:\ToF Outputs\Shapefiles_v1_centerlineWorking\LeMI.shp",
    r"X:\ToF Outputs\Shapefiles_v1_centerlineWorking\LiOH.shp",
    r"X:\ToF Outputs\Shapefiles_v1_centerlineWorking\MaWI.shp",
    r"X:\ToF Outputs\Shapefiles_v1_centerlineWorking\MeMI.shp",
    r"X:\ToF Outputs\Shapefiles_v1_centerlineWorking\MoMI.shp",
    r"X:\ToF Outputs\Shapefiles_v1_centerlineWorking\OcMI.shp",
    r"X:\ToF Outputs\Shapefiles_v1_centerlineWorking\OnWI.shp",
    r"X:\ToF Outputs\Shapefiles_v1_centerlineWorking\OzWI.shp",
    r"X:\ToF Outputs\Shapefiles_v1_centerlineWorking\RiWI.shp",
    r"X:\ToF Outputs\Shapefiles_v1_centerlineWorking\SaWI.shp",
    r"X:\ToF Outputs\Shapefiles_v1_centerlineWorking\ShWI.shp",
    r"X:\ToF Outputs\Shapefiles_v1_centerlineWorking\VeWI.shp",
    r"X:\ToF Outputs\Shapefiles_v1_centerlineWorking\WaOH.shp",
    r"X:\ToF Outputs\Shapefiles_v1_centerlineWorking\AlMI.shp",
    r"X:\ToF Outputs\Shapefiles_v1_centerlineWorking\AtOH.shp",
    r"X:\ToF Outputs\Shapefiles_v1_centerlineWorking\AuOH.shp"
]

# Define output folder for centerline shapefiles
output_folder = r"X:\ToF Outputs\Shapefiles_v1_centerlineResults"

# Ensure output folder exists
if not os.path.exists(output_folder):
    os.makedirs(output_folder)

# Loop through each shapefile and apply the Polygon to Centerline tool
for shapefile_path in shapefile_paths:
    try:
        # Define output shapefile path
        shapefile_name = os.path.basename(shapefile_path)
        output_centerline = os.path.join(output_folder, shapefile_name.replace(".shp", "_centerline.shp"))

        # Notify that the process for this shapefile is starting
        print(f"Starting Polygon to Centerline extraction for {shapefile_name}...")

        # Run the Polygon to Centerline tool on the original shapefile
        arcpy.topographic.PolygonToCenterline(
            in_features=shapefile_path,
            out_feature_class=output_centerline,
            connecting_features=None  # Use None if there are no connecting features
        )

        # Print status messages from the tool
        print(f"Centerline created for {shapefile_name} and saved to {output_centerline}")
        print(f"Tool messages: {arcpy.GetMessages()}")

    except arcpy.ExecuteError:
        # Capture any errors from the arcpy tool
        print(f"Error processing {shapefile_path}: {arcpy.GetMessages(2)}")
    except Exception as e:
        # Capture any general Python errors
        print(f"General error while processing {shapefile_path}: {str(e)}")
    finally:
        # Final status update after each shapefile is processed
        print(f"Finished processing {shapefile_name}.")
